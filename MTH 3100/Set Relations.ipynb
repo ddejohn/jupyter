{
 "cells": [
  {
   "cell_type": "code",
   "execution_count": 3,
   "metadata": {},
   "outputs": [
    {
     "name": "stdout",
     "output_type": "stream",
     "text": [
      "\n",
      "Theorem 3.1.2:\n",
      "\n",
      "R = {(1, 'a'), (3, 'b'), (1, 'c'), (4, 'c')}\n",
      "S = {('c', 'x'), ('c', 'y'), ('a', 'x')}\n",
      "T = {('x', 1), ('a', 4), ('a', 5)}\n",
      "\n",
      "(R^-1)^-1: {(1, 'a'), (3, 'b'), (1, 'c'), (4, 'c')}\n",
      "\n",
      "T o (S o R): {(4, 1), (1, 1)}\n",
      "(T o S) o R: {(4, 1), (1, 1)}\n",
      "\n",
      "IB o R: {(1, 'a'), (3, 'b'), (1, 'c'), (4, 'c')}\n",
      "R o IA: {(1, 'a'), (3, 'b'), (1, 'c'), (4, 'c')}\n",
      "\n",
      "(S o R)^-1: {('x', 4), ('x', 1), ('y', 4), ('y', 1)}\n",
      "R^-1 o S^-1: {('x', 4), ('x', 1), ('y', 4), ('y', 1)}\n"
     ]
    }
   ],
   "source": [
    "# A quick demo of basic set compositions\n",
    "# by Devon DeJohn for Dr. Ethier, MTH 3100-002\n",
    "\n",
    "from collections import defaultdict\n",
    "\n",
    "# returns the cross product of two sets a, b\n",
    "def crs(a, b):\n",
    "    return {(i, j) for i in a for j in b}\n",
    "\n",
    "# returns the identity relation of a set\n",
    "def idy(a):\n",
    "    return {(i, i) for i in a}\n",
    "\n",
    "# returns the inverse of a relation r\n",
    "def inv(r):\n",
    "    return {(i[1], i[0]) for i in r}\n",
    "\n",
    "# returns the domain of a relation r\n",
    "def dom(r):\n",
    "    return {k for k in rel(r).keys()}\n",
    "\n",
    "# returns the range of a relation r\n",
    "def rng(r):\n",
    "    return {v for i in rel(r).values() for v in i}\n",
    "\n",
    "# returns a defaultdict(list)\n",
    "def rel(r):\n",
    "    d = defaultdict(list)\n",
    "    for k, v in r:\n",
    "        d[k].append(v)\n",
    "    return d\n",
    "\n",
    "# return a new relation, r composed of s: (s(a), r(b))\n",
    "def comp(r, s):\n",
    "    r = rel(r)\n",
    "    s = rel(s)\n",
    "    return {(i, k) for i in s.keys() for j in s[i] for k in r[j]}\n",
    "\n",
    "r = [(1,'a'), (1,'c'), (3,'b'), (4,'c')]\n",
    "s = [('a','x'), ('c','x'), ('c','y')]\n",
    "t = [('a',4), ('a',5), ('x',1)]\n",
    "\n",
    "# theorem 3.1.2 demonstrations\n",
    "print(\"\\nTheorem 3.1.2:\\n\")\n",
    "print(f\"R = {set(i for i in r)}\")\n",
    "print(f\"S = {set(i for i in s)}\")\n",
    "print(f\"T = {set(i for i in t)}\")\n",
    "\n",
    "# 3.1.2.a: (R^-1)^-1 = R\n",
    "print(f\"\\n(R^-1)^-1: {inv(inv(r))}\")\n",
    "\n",
    "# 3.1.2.b: T o (S o R) = (T o S) o R\n",
    "print(f\"\\nT o (S o R): {comp(t, comp(s, r))}\")\n",
    "print(f\"(T o S) o R: {comp(comp(t, s), r)}\")\n",
    "\n",
    "# 3.1.2.c: (I_B o R) = R and (R o I_A) = R\n",
    "print(f\"\\nIB o R: {comp(idy(rng(r)), r)}\")\n",
    "print(f\"R o IA: {comp(r, idy(dom(r)))}\")\n",
    "\n",
    "# 3.1.2.d: (S o R)^-1 = R^-1 o S^-1\n",
    "print(f\"\\n(S o R)^-1: {inv(comp(s, r))}\")\n",
    "print(f\"R^-1 o S^-1: {comp(inv(r), inv(s))}\")"
   ]
  },
  {
   "cell_type": "code",
   "execution_count": null,
   "metadata": {},
   "outputs": [],
   "source": []
  }
 ],
 "metadata": {
  "kernelspec": {
   "display_name": "Python 3",
   "language": "python",
   "name": "python3"
  },
  "language_info": {
   "codemirror_mode": {
    "name": "ipython",
    "version": 3
   },
   "file_extension": ".py",
   "mimetype": "text/x-python",
   "name": "python",
   "nbconvert_exporter": "python",
   "pygments_lexer": "ipython3",
   "version": "3.7.1rc1"
  }
 },
 "nbformat": 4,
 "nbformat_minor": 2
}
