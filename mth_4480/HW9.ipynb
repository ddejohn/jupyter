{
 "cells": [
  {
   "cell_type": "code",
   "execution_count": 34,
   "metadata": {},
   "outputs": [
    {
     "data": {
      "text/plain": [
       "lin_compare (generic function with 1 method)"
      ]
     },
     "execution_count": 34,
     "metadata": {},
     "output_type": "execute_result"
    }
   ],
   "source": [
    "using LinearAlgebra\n",
    "\n",
    "\n",
    "# helper functions to use in iteration matrix\n",
    "jacobi_M(A) = inv(diagm(diag(A)))\n",
    "gauss_M(A) = inv(tril(A))\n",
    "\n",
    "\n",
    "# Perform Gauss-Seidel or Jacobi iteration on matrix A\n",
    "function lin_iter(; mthd, A, b, stop, xi=false, tol=1.0e-7)\n",
    "    if !xi\n",
    "        xi = [0. for i in 1:size(A,1)]\n",
    "    end\n",
    "\n",
    "    M = mthd(A)\n",
    "    T = I - M*A\n",
    "    c = M*b\n",
    "\n",
    "    n = 0\n",
    "    nb = norm(b,1)\n",
    "\n",
    "    # iteration equation and remainder equation\n",
    "    f(x) = T*x + c\n",
    "    r(x) = b - A*x\n",
    "\n",
    "    # stopping criteria boolean check helper function\n",
    "    diff(xi) = norm(f(xi)-xi, 1) > tol\n",
    "    ratio(xi) = norm(r(xi), 1)/nb > tol\n",
    "\n",
    "    # which stopping criteria to use\n",
    "    if stop == \"r\"\n",
    "        bool = ratio\n",
    "    else\n",
    "        bool = diff\n",
    "    end\n",
    "\n",
    "    while bool(xi)\n",
    "        xi = f(xi)\n",
    "        n += 1\n",
    "    end\n",
    "\n",
    "    return round.(xi,digits=8), n\n",
    "end\n",
    "\n",
    "\n",
    "# compare methods\n",
    "function lin_compare(A, b)\n",
    "    @time soln_rj, nrj = lin_iter(mthd=jacobi_M, A=A, b=b, stop=\"r\")\n",
    "    @time soln_dj, ndj = lin_iter(mthd=jacobi_M, A=A, b=b, stop=\"d\")\n",
    "\n",
    "    @time soln_rg, nrg = lin_iter(mthd=gauss_M, A=A, b=b, stop=\"r\")\n",
    "    @time soln_dg, ndg = lin_iter(mthd=gauss_M, A=A, b=b, stop=\"d\")\n",
    "\n",
    "    @time soln = A\\b\n",
    "\n",
    "    jerr = norm(soln-soln_rj, 1)\n",
    "    gerr = norm(soln-soln_rg, 1)\n",
    "    \n",
    "    println(\"\\nstopping criteria: ratio\")\n",
    "    println(\"jacobi # iter: $(nrj)\")\n",
    "    println(\"gauss # iter: $(nrg)\\n\")\n",
    "\n",
    "    println(\"stopping criteria: diff\")\n",
    "    println(\"jacobi # iter: $(ndj)\")\n",
    "    println(\"gauss # iter: $(ndg)\\n\")\n",
    "\n",
    "    println(\"jacobi error: $(jerr)\")\n",
    "    println(\"gauss error: $(gerr)\\n\")\n",
    "    \n",
    "    println(\"jacobi solution: $(soln_rj)\")\n",
    "    println(\"gauss solution: $(soln_rg)\")\n",
    "    println(\"actual solution: $(round.(soln, digits=8))\")\n",
    "end"
   ]
  },
  {
   "cell_type": "code",
   "execution_count": 57,
   "metadata": {},
   "outputs": [
    {
     "name": "stdout",
     "output_type": "stream",
     "text": [
      "  0.000049 seconds (101 allocations: 10.328 KiB)\n",
      "  0.000028 seconds (122 allocations: 12.625 KiB)\n",
      "  0.000013 seconds (67 allocations: 6.688 KiB)\n",
      "  0.000012 seconds (80 allocations: 8.109 KiB)\n",
      "  0.000009 seconds (4 allocations: 416 bytes)\n",
      "\n",
      "stopping criteria: ratio\n",
      "jacobi # iter: 20\n",
      "gauss # iter: 12\n",
      "\n",
      "stopping criteria: diff\n",
      "jacobi # iter: 20\n",
      "gauss # iter: 12\n",
      "\n",
      "jacobi error: 3.2280701604825435e-8\n",
      "gauss error: 9.280701747382825e-8\n",
      "\n",
      "jacobi solution: [0.03508772, -0.23684212, 0.65789472]\n",
      "gauss solution: [0.03508777, -0.23684209, 0.65789471]\n",
      "actual solution: [0.03508772, -0.23684211, 0.65789474]\n"
     ]
    }
   ],
   "source": [
    "b = [1., 0., 4.]\n",
    "A = [3. -1. 1.; 3. 6. 2.; 3. 3. 7.]\n",
    "\n",
    "lin_compare(A, b)"
   ]
  },
  {
   "cell_type": "code",
   "execution_count": 62,
   "metadata": {},
   "outputs": [
    {
     "name": "stdout",
     "output_type": "stream",
     "text": [
      "  0.000519 seconds (9.62 k allocations: 1.027 MiB)\n",
      "  0.000642 seconds (12.02 k allocations: 1.283 MiB)\n",
      "  0.000059 seconds (499 allocations: 53.938 KiB)\n",
      "  0.000058 seconds (675 allocations: 73.188 KiB)\n",
      "  0.000005 seconds (4 allocations: 416 bytes)\n",
      "\n",
      "stopping criteria: ratio\n",
      "jacobi # iter: 2399\n",
      "gauss # iter: 120\n",
      "\n",
      "stopping criteria: diff\n",
      "jacobi # iter: 2399\n",
      "gauss # iter: 131\n",
      "\n",
      "jacobi error: Inf\n",
      "gauss error: 1.3599999988400668e-6\n",
      "\n",
      "jacobi solution: [-9.344299036280862e307, Inf, 1.7491334310289707e308]\n",
      "gauss solution: [-12.00000049, -14.00000045, 17.00000042]\n",
      "actual solution: [-12.0, -14.0, 17.0]\n"
     ]
    }
   ],
   "source": [
    "b = [2., -1., 4.]\n",
    "A = [1. -1. 0.; 2. 2. 3.; -1. 3. 2.]\n",
    "\n",
    "lin_compare(A, b)\n",
    "\n",
    "\n",
    "# norm.(eigvals(I - jacobi_M(A)*A))\n",
    "# norm.(eigvals(I - gauss_M(A)*A))"
   ]
  },
  {
   "cell_type": "code",
   "execution_count": 65,
   "metadata": {},
   "outputs": [
    {
     "name": "stdout",
     "output_type": "stream",
     "text": [
      "  0.000037 seconds (193 allocations: 20.391 KiB)\n",
      "  0.000023 seconds (257 allocations: 27.391 KiB)\n",
      "  0.000011 seconds (75 allocations: 7.563 KiB)\n",
      "  0.000011 seconds (95 allocations: 9.750 KiB)\n",
      "  0.000006 seconds (4 allocations: 416 bytes)\n",
      "\n",
      "stopping criteria: ratio\n",
      "jacobi # iter: 43\n",
      "gauss # iter: 14\n",
      "\n",
      "stopping criteria: diff\n",
      "jacobi # iter: 47\n",
      "gauss # iter: 15\n",
      "\n",
      "jacobi error: 1.981818185115003e-7\n",
      "gauss error: 3.272727272518594e-7\n",
      "\n",
      "jacobi solution: [-1.45454553, 1.45454553, -0.72727268]\n",
      "gauss solution: [-1.4545456, 1.45454533, -0.72727267]\n",
      "actual solution: [-1.45454545, 1.45454545, -0.72727273]\n"
     ]
    }
   ],
   "source": [
    "b = [4., -4., 0.]\n",
    "A = [-2. 1. 0.5; 1. -2. -0.5; 0. 1. 2.]\n",
    "\n",
    "lin_compare(A, b)"
   ]
  },
  {
   "cell_type": "code",
   "execution_count": 67,
   "metadata": {},
   "outputs": [
    {
     "name": "stdout",
     "output_type": "stream",
     "text": [
      "  0.000684 seconds (7.38 k allocations: 806.359 KiB)\n",
      "  0.000902 seconds (9.22 k allocations: 1008.156 KiB)\n",
      "  0.000663 seconds (6.99 k allocations: 764.219 KiB)\n",
      "  0.000783 seconds (8.74 k allocations: 954.969 KiB)\n",
      "  0.000005 seconds (4 allocations: 464 bytes)\n",
      "\n",
      "stopping criteria: ratio\n",
      "jacobi # iter: 1839\n",
      "gauss # iter: 1743\n",
      "\n",
      "stopping criteria: diff\n",
      "jacobi # iter: 1840\n",
      "gauss # iter: 1743\n",
      "\n",
      "jacobi error: Inf\n",
      "gauss error: Inf\n",
      "\n",
      "jacobi solution: [-3.7803715216214356e306, 1.1078020098449819e308, -1.3527267642236994e308, 4.74861716488516e307]\n",
      "gauss solution: [-1.8972322531518542e307, -6.94289450128895e307, Inf, -1.282064337846569e307]\n",
      "actual solution: [-0.61702128, 1.23404255, 0.22695035, 0.36879433]\n"
     ]
    }
   ],
   "source": [
    "b = [0., 5., -2., 6.]\n",
    "A = [2. 1. 0. 0.; -1. 3. 3. 0.; 2. -2. 1. 4.; -2. 2. 2. 5.]\n",
    "\n",
    "lin_compare(A, b)\n",
    "\n",
    "# norm.(eigvals(I - jacobi_M(A)*A))\n",
    "# norm.(eigvals(I - gauss_M(A)*A))"
   ]
  },
  {
   "cell_type": "code",
   "execution_count": 68,
   "metadata": {},
   "outputs": [
    {
     "name": "stdout",
     "output_type": "stream",
     "text": [
      "  0.000034 seconds (149 allocations: 18.484 KiB)\n",
      "  0.000063 seconds (197 allocations: 24.484 KiB)\n",
      "  0.000021 seconds (87 allocations: 10.828 KiB)\n",
      "  0.000031 seconds (115 allocations: 14.328 KiB)\n",
      "  0.000005 seconds (4 allocations: 656 bytes)\n",
      "\n",
      "stopping criteria: ratio\n",
      "jacobi # iter: 32\n",
      "gauss # iter: 17\n",
      "\n",
      "stopping criteria: diff\n",
      "jacobi # iter: 35\n",
      "gauss # iter: 19\n",
      "\n",
      "jacobi error: 8.299999992855689e-7\n",
      "gauss error: 4.999999995147775e-7\n",
      "\n",
      "jacobi solution: [0.99999992, 1.99999977, 0.99999992, 1.99999984, 0.99999988, 1.99999984]\n",
      "gauss solution: [0.99999986, 1.99999988, 0.99999995, 1.99999991, 0.99999993, 1.99999997]\n",
      "actual solution: [1.0, 2.0, 1.0, 2.0, 1.0, 2.0]\n"
     ]
    }
   ],
   "source": [
    "b = [0., 5., 0., 6., -2., 6.]\n",
    "A = [4. -1. 0. -1. 0. 0.;\n",
    "    -1. 4. -1. 0. -1. 0.;\n",
    "    0. -1. 4. 0. 0. -1.;\n",
    "    -1. 0. 0. 4. -1. 0.;\n",
    "    0. -1. 0. -1. 4. -1;\n",
    "    0. 0. -1. 0. -1. 4.]\n",
    "\n",
    "lin_compare(A, b)"
   ]
  },
  {
   "cell_type": "code",
   "execution_count": null,
   "metadata": {},
   "outputs": [],
   "source": []
  }
 ],
 "metadata": {
  "kernelspec": {
   "display_name": "Julia 1.2.0",
   "language": "julia",
   "name": "julia-1.2"
  },
  "language_info": {
   "file_extension": ".jl",
   "mimetype": "application/julia",
   "name": "julia",
   "version": "1.2.0"
  }
 },
 "nbformat": 4,
 "nbformat_minor": 2
}
