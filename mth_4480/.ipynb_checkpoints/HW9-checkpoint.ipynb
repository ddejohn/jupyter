{
 "cells": [
  {
   "cell_type": "code",
   "execution_count": 90,
   "metadata": {},
   "outputs": [
    {
     "data": {
      "text/plain": [
       "lin_compare (generic function with 2 methods)"
      ]
     },
     "execution_count": 90,
     "metadata": {},
     "output_type": "execute_result"
    }
   ],
   "source": [
    "using LinearAlgebra\n",
    "\n",
    "\n",
    "# helper functions to use in iteration matrix\n",
    "jacobi_M(A) = inv(diagm(diag(A)))\n",
    "gauss_M(A) = inv(tril(A))\n",
    "\n",
    "\n",
    "# Perform Gauss-Seidel or Jacobi iteration on matrix A\n",
    "function lin_iter(; mthd, A, b, stop, xi=false, tol=1.0e-7)\n",
    "    if !xi\n",
    "        xi = [0. for i in 1:size(A,1)]\n",
    "    end\n",
    "\n",
    "    M = mthd(A)\n",
    "    T = (I - M*A)\n",
    "    c = M*b\n",
    "\n",
    "    n = 0\n",
    "    nb = norm(b,1)\n",
    "\n",
    "    f(x) = T*x + c\n",
    "    r(x) = b - A*x\n",
    "\n",
    "    diff(xi) = norm(f(xi)-xi, 1) > tol\n",
    "    ratio(xi) = norm(r(xi), 1)/nb > tol\n",
    "\n",
    "    if stop == \"r\"\n",
    "        bool = ratio\n",
    "    else\n",
    "        bool = diff\n",
    "    end\n",
    "\n",
    "    while bool(xi)\n",
    "        xi = f(xi)\n",
    "        n += 1\n",
    "    end\n",
    "\n",
    "    return round.(xi,digits=8), n\n",
    "end\n",
    "\n",
    "\n",
    "# compare methods\n",
    "function lin_compare(A, b)\n",
    "    soln_rj, nrj = lin_iter(mthd=jacobi_M, A=A, b=b, stop=\"r\")\n",
    "    soln_dj, ndj = lin_iter(mthd=jacobi_M, A=A, b=b, stop=\"d\")\n",
    "    soln_rg, nrg = lin_iter(mthd=gauss_M, A=A, b=b, stop=\"r\")\n",
    "    soln_dg, ndg = lin_iter(mthd=gauss_M, A=A, b=b, stop=\"d\")\n",
    "\n",
    "    soln = A\\b\n",
    "    jerr = norm(soln-soln_rj, 1)\n",
    "    gerr = norm(soln-soln_rg, 1)\n",
    "    \n",
    "    println(\"stopping criteria: ratio\")\n",
    "    println(\"jacobi # iter: $(nrj)\")\n",
    "    println(\"gauss # iter: $(nrg)\\n\")\n",
    "\n",
    "    println(\"stopping criteria: diff\")\n",
    "    println(\"jacobi # iter: $(ndj)\")\n",
    "    println(\"gauss # iter: $(ndg)\\n\")\n",
    "\n",
    "    println(\"jacobi error: $(jerr)\")\n",
    "    println(\"gauss error: $(gerr)\")\n",
    "end"
   ]
  },
  {
   "cell_type": "code",
   "execution_count": 91,
   "metadata": {},
   "outputs": [
    {
     "name": "stdout",
     "output_type": "stream",
     "text": [
      "stopping criteria: ratio\n",
      "jacobi # iter: 20\n",
      "gauss # iter: 12\n",
      "\n",
      "stopping criteria: diff\n",
      "jacobi # iter: 20\n",
      "gauss # iter: 12\n",
      "\n",
      "jacobi error: 3.2280701604825435e-8\n",
      "gauss error: 9.280701747382825e-8\n"
     ]
    }
   ],
   "source": [
    "b = [1., 0., 4.]\n",
    "A = [3. -1. 1.; 3. 6. 2.; 3. 3. 7.]\n",
    "\n",
    "lin_compare(A, b)"
   ]
  },
  {
   "cell_type": "code",
   "execution_count": 92,
   "metadata": {},
   "outputs": [
    {
     "name": "stdout",
     "output_type": "stream",
     "text": [
      "stopping criteria: ratio\n",
      "jacobi # iter: 2399\n",
      "gauss # iter: 120\n",
      "\n",
      "stopping criteria: diff\n",
      "jacobi # iter: 2399\n",
      "gauss # iter: 131\n",
      "\n",
      "jacobi error: Inf\n",
      "gauss error: 1.3599999988400668e-6\n"
     ]
    }
   ],
   "source": [
    "b = [2., -1., 4.]\n",
    "A = [1. -1. 0.; 2. 2. 3.; -1. 3. 2.]\n",
    "\n",
    "lin_compare(A, b)"
   ]
  },
  {
   "cell_type": "code",
   "execution_count": 93,
   "metadata": {},
   "outputs": [
    {
     "name": "stdout",
     "output_type": "stream",
     "text": [
      "stopping criteria: ratio\n",
      "jacobi # iter: 43\n",
      "gauss # iter: 14\n",
      "\n",
      "stopping criteria: diff\n",
      "jacobi # iter: 47\n",
      "gauss # iter: 15\n",
      "\n",
      "jacobi error: 1.981818185115003e-7\n",
      "gauss error: 3.272727272518594e-7\n"
     ]
    }
   ],
   "source": [
    "b = [4., -4., 0.]\n",
    "A = [-2. 1. 0.5; 1. -2. -0.5; 0. 1. 2.]\n",
    "\n",
    "lin_compare(A, b)"
   ]
  },
  {
   "cell_type": "code",
   "execution_count": 94,
   "metadata": {},
   "outputs": [
    {
     "name": "stdout",
     "output_type": "stream",
     "text": [
      "stopping criteria: ratio\n",
      "jacobi # iter: 1839\n",
      "gauss # iter: 1743\n",
      "\n",
      "stopping criteria: diff\n",
      "jacobi # iter: 1840\n",
      "gauss # iter: 1743\n",
      "\n",
      "jacobi error: Inf\n",
      "gauss error: Inf\n"
     ]
    }
   ],
   "source": [
    "b = [0., 5., -2., 6.]\n",
    "A = [2. 1. 0. 0.; -1. 3. 3. 0.; 2. -2. 1. 4.; -2. 2. 2. 5.]\n",
    "\n",
    "lin_compare(A, b)"
   ]
  },
  {
   "cell_type": "code",
   "execution_count": 95,
   "metadata": {},
   "outputs": [
    {
     "name": "stdout",
     "output_type": "stream",
     "text": [
      "stopping criteria: ratio\n",
      "jacobi # iter: 32\n",
      "gauss # iter: 17\n",
      "\n",
      "stopping criteria: diff\n",
      "jacobi # iter: 35\n",
      "gauss # iter: 19\n",
      "\n",
      "jacobi error: 8.299999992855689e-7\n",
      "gauss error: 4.999999995147775e-7\n"
     ]
    }
   ],
   "source": [
    "b = [0., 5., 0., 6., -2., 6.]\n",
    "A = [4. -1. 0. -1. 0. 0.;\n",
    "    -1. 4. -1. 0. -1. 0.;\n",
    "    0. -1. 4. 0. 0. -1.;\n",
    "    -1. 0. 0. 4. -1. 0.;\n",
    "    0. -1. 0. -1. 4. -1;\n",
    "    0. 0. -1. 0. -1. 4.]\n",
    "\n",
    "lin_compare(A, b)"
   ]
  },
  {
   "cell_type": "code",
   "execution_count": null,
   "metadata": {},
   "outputs": [],
   "source": []
  }
 ],
 "metadata": {
  "kernelspec": {
   "display_name": "Julia 1.2.0",
   "language": "julia",
   "name": "julia-1.2"
  },
  "language_info": {
   "file_extension": ".jl",
   "mimetype": "application/julia",
   "name": "julia",
   "version": "1.2.0"
  }
 },
 "nbformat": 4,
 "nbformat_minor": 2
}
