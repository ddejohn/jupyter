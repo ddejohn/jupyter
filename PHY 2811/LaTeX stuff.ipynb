{
 "cells": [
  {
   "cell_type": "code",
   "execution_count": 123,
   "metadata": {
    "scrolled": false
   },
   "outputs": [
    {
     "data": {
      "text/latex": [
       "$$\\text{#1}$$"
      ],
      "text/plain": [
       "<IPython.core.display.Math object>"
      ]
     },
     "metadata": {},
     "output_type": "display_data"
    },
    {
     "data": {
      "text/latex": [
       "$$\\text{Let } \\omega_i = \\frac{E_i}{\\hbar}$$"
      ],
      "text/plain": [
       "<IPython.core.display.Math object>"
      ]
     },
     "metadata": {},
     "output_type": "display_data"
    },
    {
     "data": {
      "text/latex": [
       "$$\\hspace{7mm} a)$$"
      ],
      "text/plain": [
       "<IPython.core.display.Math object>"
      ]
     },
     "metadata": {},
     "output_type": "display_data"
    },
    {
     "data": {
      "text/latex": [
       "$$\\hspace{15mm}\\int_{\\small{-\\infty}}^{\\small{\\infty}}\\Psi^{*}(x,t) \\; \\Psi(x,t)\\; dx= 1$$"
      ],
      "text/plain": [
       "<IPython.core.display.Math object>"
      ]
     },
     "metadata": {},
     "output_type": "display_data"
    },
    {
     "data": {
      "text/latex": [
       "$$\\hspace{15mm}\\int_{\\small{-\\infty}}^{\\small{\\infty}}\\Bigg{(}\\frac{1}{\\sqrt{2}}\\psi_n (x)e^{i \\omega_n t}+\\frac{1}{\\sqrt{2}}\\psi_m (x)e^{i \\omega_m t}\\Bigg{)}\\Bigg{(}\\frac{1}{\\sqrt{2}}\\psi_n (x)e^{-i \\omega_n t}+\\frac{1}{\\sqrt{2}}\\psi_m (x)e^{-i \\omega_m t}\\Bigg{)}\\; dx= 1$$"
      ],
      "text/plain": [
       "<IPython.core.display.Math object>"
      ]
     },
     "metadata": {},
     "output_type": "display_data"
    },
    {
     "data": {
      "text/latex": [
       "$$\\hspace{15mm}\\int_{\\small{-\\infty}}^{\\small{\\infty}}\\frac{1}{2}\\psi_n^2 (x)+\\frac{1}{2}\\psi_m^2 (x)+\\frac{1}{2}\\psi_n (x) \\; \\psi_n (x) \\; cos([\\omega_m - \\omega_n] \\; t)\\; dx= 1$$"
      ],
      "text/plain": [
       "<IPython.core.display.Math object>"
      ]
     },
     "metadata": {},
     "output_type": "display_data"
    },
    {
     "data": {
      "text/latex": [
       "$$\\hspace{15mm}\\frac{1}{2}\\Bigg{(}\\int_{\\small{-\\infty}}^{\\small{\\infty}}\\psi_n^2 (x)\\; dx+\\int_{\\small{-\\infty}}^{\\small{\\infty}}\\psi_m^2 (x)\\; dx+ cos([\\omega_m - \\omega_n] \\; t)\\int_{\\small{-\\infty}}^{\\small{\\infty}}\\psi_m(x) \\; \\psi_n(x)\\; dx\\Bigg{)}= 1$$"
      ],
      "text/plain": [
       "<IPython.core.display.Math object>"
      ]
     },
     "metadata": {},
     "output_type": "display_data"
    },
    {
     "data": {
      "text/latex": [
       "$$\\hspace{15mm}\\hspace{50mm}\\boxed{\\frac{1}{2}\\; (1 + 1 + 0) = 1}$$"
      ],
      "text/plain": [
       "<IPython.core.display.Math object>"
      ]
     },
     "metadata": {},
     "output_type": "display_data"
    },
    {
     "data": {
      "text/latex": [
       "$$\\hspace{7mm} b)$$"
      ],
      "text/plain": [
       "<IPython.core.display.Math object>"
      ]
     },
     "metadata": {},
     "output_type": "display_data"
    },
    {
     "data": {
      "text/latex": [
       "$$\\hspace{15mm}\\langle E \\rangle = \\int_{\\small{-\\infty}}^{\\small{\\infty}}\\Psi^{*}(x,t) \\; \\hat{\\text{E}} \\; \\Psi(x,t)\\; dx$$"
      ],
      "text/plain": [
       "<IPython.core.display.Math object>"
      ]
     },
     "metadata": {},
     "output_type": "display_data"
    },
    {
     "data": {
      "text/latex": [
       "$$\\hspace{15mm}=\\int_{\\small{-\\infty}}^{\\small{\\infty}}\\Bigg{(}\\frac{1}{\\sqrt{2}}\\psi_n (x)e^{i \\omega_n t}+\\frac{1}{\\sqrt{2}}\\psi_m (x)e^{i \\omega_m t}\\Bigg{)}\\Bigg{(}i\\hbar \\frac{\\partial}{\\partial t}\\Bigg{)}\\Bigg{(}\\frac{1}{\\sqrt{2}}\\psi_n (x)e^{-i \\omega_n t}+\\frac{1}{\\sqrt{2}}\\psi_m (x)e^{-i \\omega_m t}\\Bigg{)}\\; dx$$"
      ],
      "text/plain": [
       "<IPython.core.display.Math object>"
      ]
     },
     "metadata": {},
     "output_type": "display_data"
    },
    {
     "data": {
      "text/latex": [
       "$$\\hspace{15mm}=\\int_{\\small{-\\infty}}^{\\small{\\infty}}\\Bigg{(}\\frac{1}{\\sqrt{2}}\\psi_n (x)e^{i \\omega_n t}+\\frac{1}{\\sqrt{2}}\\psi_m (x)e^{i \\omega_m t}\\Bigg{)}\\Bigg{(}\\hbar \\omega_n\\frac{1}{\\sqrt{2}}\\psi_n (x)e^{-i \\omega_n t}+ \\hbar \\omega_m\\frac{1}{\\sqrt{2}}\\psi_m (x)e^{-i \\omega_m t}\\Bigg{)}\\; dx$$"
      ],
      "text/plain": [
       "<IPython.core.display.Math object>"
      ]
     },
     "metadata": {},
     "output_type": "display_data"
    },
    {
     "data": {
      "text/latex": [
       "$$\\hspace{15mm}=\\int_{\\small{-\\infty}}^{\\small{\\infty}}\\Bigg{(}\\frac{1}{\\sqrt{2}}\\psi_n (x)e^{i \\omega_n t}+\\frac{1}{\\sqrt{2}}\\psi_m (x)e^{i \\omega_m t}\\Bigg{)}\\Bigg{(}E_n\\frac{1}{\\sqrt{2}}\\psi_n (x)e^{-i \\omega_n t}+ E_m\\frac{1}{\\sqrt{2}}\\psi_m (x)e^{-i \\omega_m t}\\Bigg{)}\\; dx$$"
      ],
      "text/plain": [
       "<IPython.core.display.Math object>"
      ]
     },
     "metadata": {},
     "output_type": "display_data"
    },
    {
     "data": {
      "text/latex": [
       "$$\\hspace{15mm}=\\frac{1}{2}\\Bigg{(}\\int_{\\small{-\\infty}}^{\\small{\\infty}}\\psi_n^2 (x)E_n + \\psi_m^2 (x)E_m + \\psi_n (x) \\psi_m (x) E_me^{-i \\omega_m t}+ \\psi_n (x) \\psi_m (x) E_ne^{-i \\omega_n t}\\; dx\\Bigg{)}$$"
      ],
      "text/plain": [
       "<IPython.core.display.Math object>"
      ]
     },
     "metadata": {},
     "output_type": "display_data"
    },
    {
     "data": {
      "text/latex": [
       "$$\\hspace{15mm}=\\frac{1}{2}\\Bigg{(}E_n\\int_{\\small{-\\infty}}^{\\small{\\infty}}\\psi_n^2 (x)\\; dx + E_m\\int_{\\small{-\\infty}}^{\\small{\\infty}}\\psi_m^2 (x)\\; dx+\\int_{\\small{-\\infty}}^{\\small{\\infty}}\\psi_n (x) \\psi_m (x) E_me^{-i \\omega_m t}\\; dx+\\int_{\\small{-\\infty}}^{\\small{\\infty}}\\psi_n (x) \\psi_m (x) E_ne^{-i \\omega_n t}\\; dx\\Bigg{)}$$"
      ],
      "text/plain": [
       "<IPython.core.display.Math object>"
      ]
     },
     "metadata": {},
     "output_type": "display_data"
    },
    {
     "data": {
      "text/latex": [
       "$$\\hspace{15mm}\\hspace{50mm}\\boxed{=\\frac{1}{2}\\big{(}E_n + E_m\\big{)}}$$"
      ],
      "text/plain": [
       "<IPython.core.display.Math object>"
      ]
     },
     "metadata": {},
     "output_type": "display_data"
    },
    {
     "data": {
      "text/latex": [
       "$$\\text{Let } \\omega_i^2 = \\frac{E_i^2}{\\hbar^2}$$"
      ],
      "text/plain": [
       "<IPython.core.display.Math object>"
      ]
     },
     "metadata": {},
     "output_type": "display_data"
    },
    {
     "data": {
      "text/latex": [
       "$$\\hspace{7mm} c)$$"
      ],
      "text/plain": [
       "<IPython.core.display.Math object>"
      ]
     },
     "metadata": {},
     "output_type": "display_data"
    },
    {
     "data": {
      "text/latex": [
       "$$\\hspace{15mm}\\hat{\\text{E}}^2 = \\Big{(}i\\hbar \\frac{\\partial}{\\partial t}\\Big{)}^2 =-\\hbar^2 \\frac{\\partial^2}{\\partial t^2}$$"
      ],
      "text/plain": [
       "<IPython.core.display.Math object>"
      ]
     },
     "metadata": {},
     "output_type": "display_data"
    },
    {
     "data": {
      "text/latex": [
       "$$\\hspace{15mm}\\langle E^2 \\rangle = \\int_{\\small{-\\infty}}^{\\small{\\infty}}\\Psi^{*}(x,t) \\; \\hat{\\text{E}}^2 \\; \\Psi(x,t)\\; dx$$"
      ],
      "text/plain": [
       "<IPython.core.display.Math object>"
      ]
     },
     "metadata": {},
     "output_type": "display_data"
    },
    {
     "data": {
      "text/latex": [
       "$$\\hspace{15mm}=\\int_{\\small{-\\infty}}^{\\small{\\infty}}\\Bigg{(}\\frac{1}{\\sqrt{2}}\\psi_n (x)e^{i \\omega_n t}+\\frac{1}{\\sqrt{2}}\\psi_m (x)e^{i \\omega_m t}\\Bigg{)}\\Bigg{(}-\\hbar^2 \\frac{\\partial^2}{\\partial t^2}\\Bigg{)}\\Bigg{(}\\frac{1}{\\sqrt{2}}\\psi_n (x)e^{-i \\omega_n t}+\\frac{1}{\\sqrt{2}}\\psi_m (x)e^{-i \\omega_m t}\\Bigg{)}\\; dx$$"
      ],
      "text/plain": [
       "<IPython.core.display.Math object>"
      ]
     },
     "metadata": {},
     "output_type": "display_data"
    },
    {
     "data": {
      "text/latex": [
       "$$\\hspace{15mm}=\\frac{1}{2}\\Bigg{(}E_n^2\\int_{\\small{-\\infty}}^{\\small{\\infty}}\\psi_n^2 (x)\\; dx+ E_m^2\\int_{\\small{-\\infty}}^{\\small{\\infty}}\\psi_m^2 (x)\\; dx+ E_n^2e^{-i \\omega_n t}\\int_{\\small{-\\infty}}^{\\small{\\infty}}\\psi_n (x) \\; \\psi_m (x)\\; dx+ E_m^2e^{-i \\omega_m t}\\int_{\\small{-\\infty}}^{\\small{\\infty}}\\psi_n (x) \\; \\psi_m (x)\\; dx\\Bigg{)}$$"
      ],
      "text/plain": [
       "<IPython.core.display.Math object>"
      ]
     },
     "metadata": {},
     "output_type": "display_data"
    },
    {
     "data": {
      "text/latex": [
       "$$\\hspace{15mm}\\hspace{50mm}\\boxed{=\\frac{1}{2}\\big{(}E_n^2 + E_m^2\\big{)}}$$"
      ],
      "text/plain": [
       "<IPython.core.display.Math object>"
      ]
     },
     "metadata": {},
     "output_type": "display_data"
    },
    {
     "data": {
      "text/latex": [
       "$$\\hspace{7mm} d)$$"
      ],
      "text/plain": [
       "<IPython.core.display.Math object>"
      ]
     },
     "metadata": {},
     "output_type": "display_data"
    },
    {
     "data": {
      "text/latex": [
       "$$\\hspace{15mm}\\Delta E = \\sqrt{\\langle E^2 \\rangle - \\langle E \\rangle ^2}$$"
      ],
      "text/plain": [
       "<IPython.core.display.Math object>"
      ]
     },
     "metadata": {},
     "output_type": "display_data"
    },
    {
     "data": {
      "text/latex": [
       "$$\\hspace{15mm}\\LARGE{\\text{I regret doing this}}$$"
      ],
      "text/plain": [
       "<IPython.core.display.Math object>"
      ]
     },
     "metadata": {},
     "output_type": "display_data"
    }
   ],
   "source": [
    "from IPython.display import display, Math\n",
    "\n",
    "amp = '\\\\frac{1}{\\\\sqrt{2}}'\n",
    "half = '\\\\frac{1}{2}'\n",
    "op_E = 'i\\\\hbar \\\\frac{\\\\partial}{\\\\partial t}'\n",
    "sq_E = '-\\\\hbar^2 \\\\frac{\\partial^2}{\\partial t^2}'\n",
    "\n",
    "psi_n = amp + '\\\\psi_n (x)'\n",
    "psi_m = amp + '\\\\psi_m (x)'\n",
    "\n",
    "sq_n = '\\\\psi_n^2 (x)'\n",
    "sq_m = '\\\\psi_m^2 (x)'\n",
    "\n",
    "w_n = '\\\\frac{E_n}{\\\\hbar}'\n",
    "w_m = '\\\\frac{E_m}{\\\\hbar}'\n",
    "\n",
    "exp_n = 'e^{-i \\\\omega_n t}'\n",
    "exp_m = 'e^{-i \\\\omega_m t}'\n",
    "\n",
    "str_n = 'e^{i \\\\omega_n t}'\n",
    "str_m = 'e^{i \\\\omega_m t}'\n",
    "\n",
    "psi = psi_n + exp_n + '+' + psi_m + exp_m\n",
    "psi_star = psi_n + str_n + '+' + psi_m + str_m\n",
    "\n",
    "def embiggen(s):\n",
    "    return '\\\\Bigg{(}' + s + '\\\\Bigg{)}'\n",
    "\n",
    "def eqnify(s):\n",
    "    return '\\\\hspace{15mm}' + s\n",
    "\n",
    "def boxify(s):\n",
    "    return '\\\\hspace{50mm}\\\\boxed{' + s + '}'\n",
    "\n",
    "def intgl(s):\n",
    "    return '\\\\int_{\\\\small{-\\\\infty}}^{\\\\small{\\\\infty}}' + s + '\\\\; dx'\n",
    "\n",
    "# question 1\n",
    "display(Math('\\\\text{#1}'))\n",
    "display(Math('\\\\text{Let } \\\\omega_i = \\\\frac{E_i}{\\hbar}'))\n",
    "\n",
    "# part a, showing psi_m and psi_n are normalized\n",
    "display(Math('\\\\hspace{7mm} a)'))\n",
    "display(Math(eqnify(intgl('\\\\Psi^{*}(x,t) \\\\; \\\\Psi(x,t)') + '= 1')))\n",
    "display(Math(eqnify(intgl(embiggen(psi_star) + embiggen(psi)) + '= 1')))\n",
    "display(Math(eqnify(intgl(half + sq_n + '+' + half + sq_m + '+' + half + '\\\\psi_n (x) \\\\; \\\\psi_n (x) \\\\; cos([\\\\omega_m - \\\\omega_n] \\\\; t)') + '= 1')))\n",
    "display(Math(eqnify(half + embiggen(intgl(sq_n) + '+' + intgl(sq_m) + '+ cos([\\\\omega_m - \\\\omega_n] \\\\; t)' + intgl('\\\\psi_m(x) \\\\; \\\\psi_n(x)')) + '= 1')))\n",
    "display(Math(eqnify(boxify(half + '\\\\; (1 + 1 + 0) = 1'))))\n",
    "\n",
    "# part b, showing <E>\n",
    "display(Math('\\\\hspace{7mm} b)'))\n",
    "display(Math(eqnify('\\\\langle E \\\\rangle = ' + intgl('\\\\Psi^{*}(x,t) \\\\; \\\\hat{\\\\text{E}} \\\\; \\\\Psi(x,t)'))))\n",
    "display(Math(eqnify('=' + intgl(embiggen(psi_star) + embiggen(op_E) + embiggen(psi)))))\n",
    "display(Math(eqnify('=' + intgl(embiggen(psi_star) + embiggen('\\\\hbar \\\\omega_n' + psi_n + exp_n + '+ \\\\hbar \\\\omega_m' + psi_m + exp_m)))))\n",
    "display(Math(eqnify('=' + intgl(embiggen(psi_star) + embiggen('E_n' + psi_n + exp_n + '+ E_m' + psi_m + exp_m)))))\n",
    "display(Math(eqnify('=' + half + embiggen(intgl(sq_n + 'E_n + ' + sq_m + 'E_m + \\\\psi_n (x) \\\\psi_m (x) E_m' + exp_m + '+ \\\\psi_n (x) \\\\psi_m (x) E_n' + exp_n)))))\n",
    "display(Math(eqnify('=' + half + embiggen('E_n' + intgl(sq_n) + ' + E_m' + intgl(sq_m) + '+' + intgl('\\\\psi_n (x) \\\\psi_m (x) E_m' + exp_m) + '+' + intgl('\\\\psi_n (x) \\\\psi_m (x) E_n' + exp_n)))))\n",
    "display(Math(eqnify(boxify('=' + half + '\\\\big{(}E_n + E_m\\\\big{)}'))))\n",
    "\n",
    "# part c, showing <E^2>\n",
    "display(Math('\\\\text{Let } \\\\omega_i^2 = \\\\frac{E_i^2}{\\hbar^2}'))\n",
    "display(Math('\\\\hspace{7mm} c)'))\n",
    "display(Math(eqnify('\\\\hat{\\\\text{E}}^2 = \\\\Big{(}' + op_E + '\\\\Big{)}^2 =' + sq_E)))\n",
    "display(Math(eqnify('\\\\langle E^2 \\\\rangle = ' + intgl('\\\\Psi^{*}(x,t) \\\\; \\\\hat{\\\\text{E}}^2 \\\\; \\\\Psi(x,t)'))))\n",
    "display(Math(eqnify('=' + intgl(embiggen(psi_star) + embiggen(sq_E) + embiggen(psi)))))\n",
    "display(Math(eqnify('=' + half + embiggen('E_n^2' + intgl(sq_n) + '+ E_m^2' + intgl(sq_m) + '+ E_n^2' + exp_n + intgl('\\\\psi_n (x) \\\\; \\\\psi_m (x)') + '+ E_m^2' + exp_m + intgl('\\\\psi_n (x) \\\\; \\\\psi_m (x)')))))\n",
    "display(Math(eqnify(boxify('=' + half + '\\\\big{(}E_n^2 + E_m^2\\\\big{)}'))))\n",
    "\n",
    "#part d, Energy uncertainty\n",
    "display(Math('\\\\hspace{7mm} d)'))\n",
    "display(Math(eqnify('\\\\Delta E = \\\\sqrt{\\\\langle E^2 \\\\rangle - \\\\langle E \\\\rangle ^2}')))\n",
    "display(Math(eqnify('\\\\LARGE{\\\\text{I regret doing this}}')))"
   ]
  },
  {
   "cell_type": "code",
   "execution_count": null,
   "metadata": {},
   "outputs": [],
   "source": []
  }
 ],
 "metadata": {
  "kernelspec": {
   "display_name": "Python 3",
   "language": "python",
   "name": "python3"
  },
  "language_info": {
   "codemirror_mode": {
    "name": "ipython",
    "version": 3
   },
   "file_extension": ".py",
   "mimetype": "text/x-python",
   "name": "python",
   "nbconvert_exporter": "python",
   "pygments_lexer": "ipython3",
   "version": "3.7.1rc1"
  }
 },
 "nbformat": 4,
 "nbformat_minor": 2
}
