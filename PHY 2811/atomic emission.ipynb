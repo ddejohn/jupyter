{
 "cells": [
  {
   "cell_type": "code",
   "execution_count": 27,
   "metadata": {},
   "outputs": [
    {
     "data": {
      "text/latex": [
       "$$\\LARGE{E_n = -\\frac{m_e q^4}{2 (4 \\pi \\varepsilon_{\\small{0}})^2 \\hbar^2 n^2}}$$"
      ],
      "text/plain": [
       "<IPython.core.display.Math object>"
      ]
     },
     "metadata": {},
     "output_type": "display_data"
    },
    {
     "data": {
      "text/latex": [
       "$$\\LARGE{E = hf = h\\frac{c}{\\lambda}}$$"
      ],
      "text/plain": [
       "<IPython.core.display.Math object>"
      ]
     },
     "metadata": {},
     "output_type": "display_data"
    },
    {
     "data": {
      "text/latex": [
       "$$\\LARGE{\\lambda_{emission} = \\frac{h c}{\\Delta E_n}}$$"
      ],
      "text/plain": [
       "<IPython.core.display.Math object>"
      ]
     },
     "metadata": {},
     "output_type": "display_data"
    },
    {
     "name": "stdout",
     "output_type": "stream",
     "text": [
      "\n",
      "-------------------------------------------\n",
      "\n",
      "E(1)                        -13.6068   [eV]\n",
      "E(2)                         -3.4017   [eV]\n",
      "E(3)                         -1.5119   [eV]\n",
      "E(4)                         -0.8504   [eV]\n",
      "E(5)                         -0.5443   [eV]\n",
      "E(6)                         -0.3780   [eV]\n",
      "E(7)                         -0.2777   [eV]\n",
      "E(8)                         -0.2126   [eV]\n",
      "E(9)                         -0.1680   [eV]\n",
      "E(10)                    -2.1799e-20   [eV]\n",
      "\n",
      "-------------------------------------------\n",
      "\n",
      "n = 3 -> 2:                   656.11   [nm]\n",
      "n = 3 -> 1:                   102.52   [nm]\n",
      "n = 2 -> 1:                   121.50   [nm]\n",
      "n = 6 -> 3:                  1093.52   [nm]\n",
      "n = 111 -> 110:             6.15e+07   [nm]\n"
     ]
    }
   ],
   "source": [
    "import scipy as sp\n",
    "from scipy import constants\n",
    "from IPython.display import display, Math\n",
    "\n",
    "m_e = sp.constants.m_e          # electron mass\n",
    "e_0 = sp.constants.epsilon_0    # vacuum permitivity\n",
    "h = sp.constants.h              # planck's constant\n",
    "h_b = sp.constants.hbar         # planck/(2 pi)\n",
    "c = sp.constants.c              # speed of light in vacuum\n",
    "pi = sp.constants.pi            # pi\n",
    "q = sp.constants.e              # elementary charge\n",
    "\n",
    "# input energy level n, a positive integer\n",
    "'''does not catch exceptions'''\n",
    "def energy(n):\n",
    "    return -(m_e*q**4) / (2*(4*pi*e_0)**2 * h_b**2 * n**2)\n",
    "\n",
    "# input energy level (from level, number of levels [defaults to 1])\n",
    "def lmbda(n, k=1):\n",
    "    diff = energy(n) - energy(n - k)\n",
    "    return 1E9*h*c/diff\n",
    "\n",
    "display(Math(r'$\\LARGE{E_n = -\\frac{m_e q^4}{2 (4 \\pi \\varepsilon_{\\small{0}})^2 \\hbar^2 n^2}}$'))\n",
    "display(Math(r'$\\LARGE{E = hf = h\\frac{c}{\\lambda}}$'))\n",
    "display(Math(r'$\\LARGE{\\lambda_{emission} = \\frac{h c}{\\Delta E_n}}$'))\n",
    "\n",
    "print('\\n-------------------------------------------\\n')\n",
    "\n",
    "for i in range(1,10):\n",
    "    print(f\"{'E('}{i}{')':17}{6.242E18*energy(i):>16.4f}   [eV]\")\n",
    "\n",
    "print(f\"{'E(10)':20}{energy(10):>16.4e}   [eV]\")\n",
    "\n",
    "print('\\n-------------------------------------------\\n')\n",
    "\n",
    "print(f\"{'n = 3 -> 2:':20}{lmbda(3):>16.2f}   [nm]\")\n",
    "print(f\"{'n = 3 -> 1:':20}{lmbda(3,2):>16.2f}   [nm]\")\n",
    "print(f\"{'n = 2 -> 1:':20}{lmbda(2):>16.2f}   [nm]\")\n",
    "print(f\"{'n = 6 -> 3:':20}{lmbda(6,3):>16.2f}   [nm]\")\n",
    "print(f\"{'n = 111 -> 110:':20}{lmbda(111):>16.2e}   [nm]\")      "
   ]
  },
  {
   "cell_type": "code",
   "execution_count": null,
   "metadata": {},
   "outputs": [],
   "source": []
  }
 ],
 "metadata": {
  "kernelspec": {
   "display_name": "Python 3",
   "language": "python",
   "name": "python3"
  },
  "language_info": {
   "codemirror_mode": {
    "name": "ipython",
    "version": 3
   },
   "file_extension": ".py",
   "mimetype": "text/x-python",
   "name": "python",
   "nbconvert_exporter": "python",
   "pygments_lexer": "ipython3",
   "version": "3.7.1rc1"
  }
 },
 "nbformat": 4,
 "nbformat_minor": 2
}
