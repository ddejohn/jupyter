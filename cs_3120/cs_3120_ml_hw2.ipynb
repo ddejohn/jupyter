{
 "cells": [
  {
   "cell_type": "code",
   "execution_count": 2,
   "metadata": {},
   "outputs": [],
   "source": [
    "import numpy as np\n",
    "import pandas as pd\n",
    "import plotly.graph_objects as go\n",
    "from plotly.subplots import make_subplots\n",
    "from sklearn import model_selection\n",
    "from sklearn import linear_model\n",
    "from sklearn import metrics"
   ]
  },
  {
   "cell_type": "code",
   "execution_count": 6,
   "metadata": {},
   "outputs": [],
   "source": [
    "cols = ['pregnant', 'glucose', 'bp', 'skin', 'insulin', 'bmi', 'pedigree', 'age', 'labelvalue']\n",
    "pima = pd.read_csv(\"./datasets/pima-indians-diabetes-database.csv\", header=None, names=cols)\n",
    "features = ['glucose', 'bp', 'insulin', 'bmi', 'age']\n",
    "\n",
    "X_train, X_test, Y_train, Y_test = model_selection.train_test_split(\n",
    "    pima[features].to_numpy(), pima.labelvalue, test_size=0.4\n",
    ")\n",
    "\n",
    "logreg = linear_model.LogisticRegression()\n",
    "logreg.fit(X_train, Y_train)\n",
    "\n",
    "Y_predict = logreg.predict(X_test)\n",
    "Y_proba = logreg.predict_proba(X_test)[::,1]\n",
    "fpr, tpr, _ = metrics.roc_curve(Y_test, Y_proba)"
   ]
  },
  {
   "cell_type": "code",
   "execution_count": 8,
   "metadata": {},
   "outputs": [
    {
     "name": "stdout",
     "output_type": "stream",
     "text": "[[166  33]\n [ 43  66]]\nAccuracy:       0.7532467532467533\nPrecision:      0.6666666666666666\nRecall:         0.6055045871559633\nHarmonic mean:  0.6346153846153847\n\n"
    }
   ],
   "source": [
    "print(metrics.confusion_matrix(Y_test, Y_predict))\n",
    "\n",
    "accuracy = metrics.accuracy_score(Y_test, Y_predict)\n",
    "precision = metrics.precision_score(Y_test, Y_predict)\n",
    "recall = metrics.recall_score(Y_test, Y_predict)\n",
    "harmonic = 2*precision*recall/(precision + recall)\n",
    "\n",
    "print(f\"Accuracy:       {accuracy}\")\n",
    "print(f\"Precision:      {precision}\")\n",
    "print(f\"Recall:         {recall}\")\n",
    "print(f\"Harmonic mean:  {harmonic}\\n\")"
   ]
  },
  {
   "cell_type": "code",
   "execution_count": 5,
   "metadata": {},
   "outputs": [
    {
     "data": {
      "application/vnd.plotly.v1+json": {
       "config": {
        "plotlyServerURL": "https://plot.ly"
       },
       "data": [
        {
         "type": "scatter",
         "x": [
          0,
          0,
          0,
          0.0049261083743842365,
          0.0049261083743842365,
          0.009852216748768473,
          0.009852216748768473,
          0.014778325123152709,
          0.014778325123152709,
          0.019704433497536946,
          0.019704433497536946,
          0.029556650246305417,
          0.029556650246305417,
          0.034482758620689655,
          0.034482758620689655,
          0.03940886699507389,
          0.03940886699507389,
          0.04433497536945813,
          0.04433497536945813,
          0.04926108374384237,
          0.04926108374384237,
          0.059113300492610835,
          0.059113300492610835,
          0.06403940886699508,
          0.06403940886699508,
          0.06896551724137931,
          0.06896551724137931,
          0.07389162561576355,
          0.07389162561576355,
          0.07881773399014778,
          0.07881773399014778,
          0.08374384236453201,
          0.08374384236453201,
          0.08866995073891626,
          0.08866995073891626,
          0.10344827586206896,
          0.10344827586206896,
          0.12807881773399016,
          0.12807881773399016,
          0.13793103448275862,
          0.13793103448275862,
          0.18226600985221675,
          0.18226600985221675,
          0.19704433497536947,
          0.19704433497536947,
          0.21674876847290642,
          0.21674876847290642,
          0.22660098522167488,
          0.22660098522167488,
          0.2413793103448276,
          0.2413793103448276,
          0.24630541871921183,
          0.24630541871921183,
          0.26108374384236455,
          0.26108374384236455,
          0.27586206896551724,
          0.27586206896551724,
          0.2857142857142857,
          0.2857142857142857,
          0.2955665024630542,
          0.2955665024630542,
          0.3054187192118227,
          0.3054187192118227,
          0.32019704433497537,
          0.32019704433497537,
          0.33497536945812806,
          0.33497536945812806,
          0.3399014778325123,
          0.3399014778325123,
          0.3448275862068966,
          0.3448275862068966,
          0.35467980295566504,
          0.35467980295566504,
          0.3694581280788177,
          0.3694581280788177,
          0.3842364532019704,
          0.3842364532019704,
          0.41379310344827586,
          0.41379310344827586,
          0.4236453201970443,
          0.4236453201970443,
          0.42857142857142855,
          0.42857142857142855,
          0.43349753694581283,
          0.43349753694581283,
          0.4433497536945813,
          0.4433497536945813,
          0.47783251231527096,
          0.47783251231527096,
          0.4876847290640394,
          0.4876847290640394,
          0.5024630541871922,
          0.5024630541871922,
          0.5615763546798029,
          0.5615763546798029,
          0.5665024630541872,
          0.5665024630541872,
          0.5714285714285714,
          0.5714285714285714,
          0.6206896551724138,
          0.6206896551724138,
          0.6354679802955665,
          0.6354679802955665,
          0.812807881773399,
          0.812807881773399,
          0.8275862068965517,
          0.8275862068965517,
          0.9556650246305419,
          0.9556650246305419,
          1
         ],
         "y": [
          0,
          0.009523809523809525,
          0.01904761904761905,
          0.01904761904761905,
          0.02857142857142857,
          0.02857142857142857,
          0.11428571428571428,
          0.11428571428571428,
          0.14285714285714285,
          0.14285714285714285,
          0.2,
          0.2,
          0.22857142857142856,
          0.22857142857142856,
          0.24761904761904763,
          0.24761904761904763,
          0.2761904761904762,
          0.2761904761904762,
          0.3142857142857143,
          0.3142857142857143,
          0.3238095238095238,
          0.3238095238095238,
          0.34285714285714286,
          0.34285714285714286,
          0.3619047619047619,
          0.3619047619047619,
          0.4095238095238095,
          0.4095238095238095,
          0.44761904761904764,
          0.44761904761904764,
          0.5047619047619047,
          0.5047619047619047,
          0.5142857142857142,
          0.5142857142857142,
          0.5238095238095238,
          0.5238095238095238,
          0.5333333333333333,
          0.5333333333333333,
          0.5428571428571428,
          0.5428571428571428,
          0.5523809523809524,
          0.5523809523809524,
          0.5714285714285714,
          0.5714285714285714,
          0.5904761904761905,
          0.5904761904761905,
          0.6,
          0.6,
          0.6095238095238096,
          0.6095238095238096,
          0.6190476190476191,
          0.6190476190476191,
          0.6285714285714286,
          0.6285714285714286,
          0.6571428571428571,
          0.6571428571428571,
          0.6666666666666666,
          0.6666666666666666,
          0.6857142857142857,
          0.6857142857142857,
          0.6952380952380952,
          0.6952380952380952,
          0.7047619047619048,
          0.7047619047619048,
          0.7142857142857143,
          0.7142857142857143,
          0.7238095238095238,
          0.7238095238095238,
          0.7333333333333333,
          0.7333333333333333,
          0.7619047619047619,
          0.7619047619047619,
          0.7714285714285715,
          0.7714285714285715,
          0.780952380952381,
          0.780952380952381,
          0.7904761904761904,
          0.7904761904761904,
          0.8095238095238095,
          0.8095238095238095,
          0.819047619047619,
          0.819047619047619,
          0.8285714285714286,
          0.8285714285714286,
          0.8571428571428571,
          0.8571428571428571,
          0.8666666666666667,
          0.8666666666666667,
          0.8952380952380953,
          0.8952380952380953,
          0.9047619047619048,
          0.9047619047619048,
          0.9142857142857143,
          0.9142857142857143,
          0.9238095238095239,
          0.9238095238095239,
          0.9428571428571428,
          0.9428571428571428,
          0.9523809523809523,
          0.9523809523809523,
          0.9619047619047619,
          0.9619047619047619,
          0.9714285714285714,
          0.9714285714285714,
          0.9809523809523809,
          0.9809523809523809,
          0.9904761904761905,
          0.9904761904761905,
          1,
          1
         ]
        }
       ],
       "layout": {
        "height": 950,
        "legend": {
         "bgcolor": "rgba(0,0,0,0.3)",
         "font": {
          "color": "white"
         },
         "x": 0,
         "y": 1
        },
        "template": {
         "data": {
          "bar": [
           {
            "error_x": {
             "color": "#2a3f5f"
            },
            "error_y": {
             "color": "#2a3f5f"
            },
            "marker": {
             "line": {
              "color": "#E5ECF6",
              "width": 0.5
             }
            },
            "type": "bar"
           }
          ],
          "barpolar": [
           {
            "marker": {
             "line": {
              "color": "#E5ECF6",
              "width": 0.5
             }
            },
            "type": "barpolar"
           }
          ],
          "carpet": [
           {
            "aaxis": {
             "endlinecolor": "#2a3f5f",
             "gridcolor": "white",
             "linecolor": "white",
             "minorgridcolor": "white",
             "startlinecolor": "#2a3f5f"
            },
            "baxis": {
             "endlinecolor": "#2a3f5f",
             "gridcolor": "white",
             "linecolor": "white",
             "minorgridcolor": "white",
             "startlinecolor": "#2a3f5f"
            },
            "type": "carpet"
           }
          ],
          "choropleth": [
           {
            "colorbar": {
             "outlinewidth": 0,
             "ticks": ""
            },
            "type": "choropleth"
           }
          ],
          "contour": [
           {
            "colorbar": {
             "outlinewidth": 0,
             "ticks": ""
            },
            "colorscale": [
             [
              0,
              "#0d0887"
             ],
             [
              0.1111111111111111,
              "#46039f"
             ],
             [
              0.2222222222222222,
              "#7201a8"
             ],
             [
              0.3333333333333333,
              "#9c179e"
             ],
             [
              0.4444444444444444,
              "#bd3786"
             ],
             [
              0.5555555555555556,
              "#d8576b"
             ],
             [
              0.6666666666666666,
              "#ed7953"
             ],
             [
              0.7777777777777778,
              "#fb9f3a"
             ],
             [
              0.8888888888888888,
              "#fdca26"
             ],
             [
              1,
              "#f0f921"
             ]
            ],
            "type": "contour"
           }
          ],
          "contourcarpet": [
           {
            "colorbar": {
             "outlinewidth": 0,
             "ticks": ""
            },
            "type": "contourcarpet"
           }
          ],
          "heatmap": [
           {
            "colorbar": {
             "outlinewidth": 0,
             "ticks": ""
            },
            "colorscale": [
             [
              0,
              "#0d0887"
             ],
             [
              0.1111111111111111,
              "#46039f"
             ],
             [
              0.2222222222222222,
              "#7201a8"
             ],
             [
              0.3333333333333333,
              "#9c179e"
             ],
             [
              0.4444444444444444,
              "#bd3786"
             ],
             [
              0.5555555555555556,
              "#d8576b"
             ],
             [
              0.6666666666666666,
              "#ed7953"
             ],
             [
              0.7777777777777778,
              "#fb9f3a"
             ],
             [
              0.8888888888888888,
              "#fdca26"
             ],
             [
              1,
              "#f0f921"
             ]
            ],
            "type": "heatmap"
           }
          ],
          "heatmapgl": [
           {
            "colorbar": {
             "outlinewidth": 0,
             "ticks": ""
            },
            "colorscale": [
             [
              0,
              "#0d0887"
             ],
             [
              0.1111111111111111,
              "#46039f"
             ],
             [
              0.2222222222222222,
              "#7201a8"
             ],
             [
              0.3333333333333333,
              "#9c179e"
             ],
             [
              0.4444444444444444,
              "#bd3786"
             ],
             [
              0.5555555555555556,
              "#d8576b"
             ],
             [
              0.6666666666666666,
              "#ed7953"
             ],
             [
              0.7777777777777778,
              "#fb9f3a"
             ],
             [
              0.8888888888888888,
              "#fdca26"
             ],
             [
              1,
              "#f0f921"
             ]
            ],
            "type": "heatmapgl"
           }
          ],
          "histogram": [
           {
            "marker": {
             "colorbar": {
              "outlinewidth": 0,
              "ticks": ""
             }
            },
            "type": "histogram"
           }
          ],
          "histogram2d": [
           {
            "colorbar": {
             "outlinewidth": 0,
             "ticks": ""
            },
            "colorscale": [
             [
              0,
              "#0d0887"
             ],
             [
              0.1111111111111111,
              "#46039f"
             ],
             [
              0.2222222222222222,
              "#7201a8"
             ],
             [
              0.3333333333333333,
              "#9c179e"
             ],
             [
              0.4444444444444444,
              "#bd3786"
             ],
             [
              0.5555555555555556,
              "#d8576b"
             ],
             [
              0.6666666666666666,
              "#ed7953"
             ],
             [
              0.7777777777777778,
              "#fb9f3a"
             ],
             [
              0.8888888888888888,
              "#fdca26"
             ],
             [
              1,
              "#f0f921"
             ]
            ],
            "type": "histogram2d"
           }
          ],
          "histogram2dcontour": [
           {
            "colorbar": {
             "outlinewidth": 0,
             "ticks": ""
            },
            "colorscale": [
             [
              0,
              "#0d0887"
             ],
             [
              0.1111111111111111,
              "#46039f"
             ],
             [
              0.2222222222222222,
              "#7201a8"
             ],
             [
              0.3333333333333333,
              "#9c179e"
             ],
             [
              0.4444444444444444,
              "#bd3786"
             ],
             [
              0.5555555555555556,
              "#d8576b"
             ],
             [
              0.6666666666666666,
              "#ed7953"
             ],
             [
              0.7777777777777778,
              "#fb9f3a"
             ],
             [
              0.8888888888888888,
              "#fdca26"
             ],
             [
              1,
              "#f0f921"
             ]
            ],
            "type": "histogram2dcontour"
           }
          ],
          "mesh3d": [
           {
            "colorbar": {
             "outlinewidth": 0,
             "ticks": ""
            },
            "type": "mesh3d"
           }
          ],
          "parcoords": [
           {
            "line": {
             "colorbar": {
              "outlinewidth": 0,
              "ticks": ""
             }
            },
            "type": "parcoords"
           }
          ],
          "pie": [
           {
            "automargin": true,
            "type": "pie"
           }
          ],
          "scatter": [
           {
            "marker": {
             "colorbar": {
              "outlinewidth": 0,
              "ticks": ""
             }
            },
            "type": "scatter"
           }
          ],
          "scatter3d": [
           {
            "line": {
             "colorbar": {
              "outlinewidth": 0,
              "ticks": ""
             }
            },
            "marker": {
             "colorbar": {
              "outlinewidth": 0,
              "ticks": ""
             }
            },
            "type": "scatter3d"
           }
          ],
          "scattercarpet": [
           {
            "marker": {
             "colorbar": {
              "outlinewidth": 0,
              "ticks": ""
             }
            },
            "type": "scattercarpet"
           }
          ],
          "scattergeo": [
           {
            "marker": {
             "colorbar": {
              "outlinewidth": 0,
              "ticks": ""
             }
            },
            "type": "scattergeo"
           }
          ],
          "scattergl": [
           {
            "marker": {
             "colorbar": {
              "outlinewidth": 0,
              "ticks": ""
             }
            },
            "type": "scattergl"
           }
          ],
          "scattermapbox": [
           {
            "marker": {
             "colorbar": {
              "outlinewidth": 0,
              "ticks": ""
             }
            },
            "type": "scattermapbox"
           }
          ],
          "scatterpolar": [
           {
            "marker": {
             "colorbar": {
              "outlinewidth": 0,
              "ticks": ""
             }
            },
            "type": "scatterpolar"
           }
          ],
          "scatterpolargl": [
           {
            "marker": {
             "colorbar": {
              "outlinewidth": 0,
              "ticks": ""
             }
            },
            "type": "scatterpolargl"
           }
          ],
          "scatterternary": [
           {
            "marker": {
             "colorbar": {
              "outlinewidth": 0,
              "ticks": ""
             }
            },
            "type": "scatterternary"
           }
          ],
          "surface": [
           {
            "colorbar": {
             "outlinewidth": 0,
             "ticks": ""
            },
            "colorscale": [
             [
              0,
              "#0d0887"
             ],
             [
              0.1111111111111111,
              "#46039f"
             ],
             [
              0.2222222222222222,
              "#7201a8"
             ],
             [
              0.3333333333333333,
              "#9c179e"
             ],
             [
              0.4444444444444444,
              "#bd3786"
             ],
             [
              0.5555555555555556,
              "#d8576b"
             ],
             [
              0.6666666666666666,
              "#ed7953"
             ],
             [
              0.7777777777777778,
              "#fb9f3a"
             ],
             [
              0.8888888888888888,
              "#fdca26"
             ],
             [
              1,
              "#f0f921"
             ]
            ],
            "type": "surface"
           }
          ],
          "table": [
           {
            "cells": {
             "fill": {
              "color": "#EBF0F8"
             },
             "line": {
              "color": "white"
             }
            },
            "header": {
             "fill": {
              "color": "#C8D4E3"
             },
             "line": {
              "color": "white"
             }
            },
            "type": "table"
           }
          ]
         },
         "layout": {
          "annotationdefaults": {
           "arrowcolor": "#2a3f5f",
           "arrowhead": 0,
           "arrowwidth": 1
          },
          "coloraxis": {
           "colorbar": {
            "outlinewidth": 0,
            "ticks": ""
           }
          },
          "colorscale": {
           "diverging": [
            [
             0,
             "#8e0152"
            ],
            [
             0.1,
             "#c51b7d"
            ],
            [
             0.2,
             "#de77ae"
            ],
            [
             0.3,
             "#f1b6da"
            ],
            [
             0.4,
             "#fde0ef"
            ],
            [
             0.5,
             "#f7f7f7"
            ],
            [
             0.6,
             "#e6f5d0"
            ],
            [
             0.7,
             "#b8e186"
            ],
            [
             0.8,
             "#7fbc41"
            ],
            [
             0.9,
             "#4d9221"
            ],
            [
             1,
             "#276419"
            ]
           ],
           "sequential": [
            [
             0,
             "#0d0887"
            ],
            [
             0.1111111111111111,
             "#46039f"
            ],
            [
             0.2222222222222222,
             "#7201a8"
            ],
            [
             0.3333333333333333,
             "#9c179e"
            ],
            [
             0.4444444444444444,
             "#bd3786"
            ],
            [
             0.5555555555555556,
             "#d8576b"
            ],
            [
             0.6666666666666666,
             "#ed7953"
            ],
            [
             0.7777777777777778,
             "#fb9f3a"
            ],
            [
             0.8888888888888888,
             "#fdca26"
            ],
            [
             1,
             "#f0f921"
            ]
           ],
           "sequentialminus": [
            [
             0,
             "#0d0887"
            ],
            [
             0.1111111111111111,
             "#46039f"
            ],
            [
             0.2222222222222222,
             "#7201a8"
            ],
            [
             0.3333333333333333,
             "#9c179e"
            ],
            [
             0.4444444444444444,
             "#bd3786"
            ],
            [
             0.5555555555555556,
             "#d8576b"
            ],
            [
             0.6666666666666666,
             "#ed7953"
            ],
            [
             0.7777777777777778,
             "#fb9f3a"
            ],
            [
             0.8888888888888888,
             "#fdca26"
            ],
            [
             1,
             "#f0f921"
            ]
           ]
          },
          "colorway": [
           "#636efa",
           "#EF553B",
           "#00cc96",
           "#ab63fa",
           "#FFA15A",
           "#19d3f3",
           "#FF6692",
           "#B6E880",
           "#FF97FF",
           "#FECB52"
          ],
          "font": {
           "color": "#2a3f5f"
          },
          "geo": {
           "bgcolor": "white",
           "lakecolor": "white",
           "landcolor": "#E5ECF6",
           "showlakes": true,
           "showland": true,
           "subunitcolor": "white"
          },
          "hoverlabel": {
           "align": "left"
          },
          "hovermode": "closest",
          "mapbox": {
           "style": "light"
          },
          "paper_bgcolor": "white",
          "plot_bgcolor": "#E5ECF6",
          "polar": {
           "angularaxis": {
            "gridcolor": "white",
            "linecolor": "white",
            "ticks": ""
           },
           "bgcolor": "#E5ECF6",
           "radialaxis": {
            "gridcolor": "white",
            "linecolor": "white",
            "ticks": ""
           }
          },
          "scene": {
           "xaxis": {
            "backgroundcolor": "#E5ECF6",
            "gridcolor": "white",
            "gridwidth": 2,
            "linecolor": "white",
            "showbackground": true,
            "ticks": "",
            "zerolinecolor": "white"
           },
           "yaxis": {
            "backgroundcolor": "#E5ECF6",
            "gridcolor": "white",
            "gridwidth": 2,
            "linecolor": "white",
            "showbackground": true,
            "ticks": "",
            "zerolinecolor": "white"
           },
           "zaxis": {
            "backgroundcolor": "#E5ECF6",
            "gridcolor": "white",
            "gridwidth": 2,
            "linecolor": "white",
            "showbackground": true,
            "ticks": "",
            "zerolinecolor": "white"
           }
          },
          "shapedefaults": {
           "line": {
            "color": "#2a3f5f"
           }
          },
          "ternary": {
           "aaxis": {
            "gridcolor": "white",
            "linecolor": "white",
            "ticks": ""
           },
           "baxis": {
            "gridcolor": "white",
            "linecolor": "white",
            "ticks": ""
           },
           "bgcolor": "#E5ECF6",
           "caxis": {
            "gridcolor": "white",
            "linecolor": "white",
            "ticks": ""
           }
          },
          "title": {
           "x": 0.05
          },
          "xaxis": {
           "automargin": true,
           "gridcolor": "white",
           "linecolor": "white",
           "ticks": "",
           "title": {
            "standoff": 15
           },
           "zerolinecolor": "white",
           "zerolinewidth": 2
          },
          "yaxis": {
           "automargin": true,
           "gridcolor": "white",
           "linecolor": "white",
           "ticks": "",
           "title": {
            "standoff": 15
           },
           "zerolinecolor": "white",
           "zerolinewidth": 2
          }
         }
        },
        "title": {
         "text": "area under ROC curve: 0.7934787708186722"
        },
        "width": 950,
        "xaxis": {
         "title": {
          "text": "False Positive Rate"
         }
        },
        "yaxis": {
         "title": {
          "text": "True Positive Rate"
         }
        }
       }
      }
     },
     "metadata": {},
     "output_type": "display_data"
    }
   ],
   "source": [
    "roc = go.Scatter(x=fpr, y=tpr)\n",
    "auc = metrics.roc_auc_score(Y_test, Y_proba)\n",
    "fig = go.Figure(\n",
    "    data=roc,\n",
    "    layout=go.Layout(\n",
    "        width=950, height=950,\n",
    "        title=f\"area under ROC curve: {auc}\",\n",
    "        xaxis_title=\"False Positive Rate\",\n",
    "        yaxis_title=\"True Positive Rate\",\n",
    "        legend_x=0, legend_y=1,\n",
    "        legend_bgcolor='rgba(0,0,0,0.3)',\n",
    "        legend_font_color='white'\n",
    "    )\n",
    ")\n",
    "fig.show()"
   ]
  },
  {
   "cell_type": "code",
   "execution_count": null,
   "metadata": {},
   "outputs": [],
   "source": []
  }
 ],
 "metadata": {
  "kernelspec": {
   "display_name": "Python 3",
   "language": "python",
   "name": "python3"
  },
  "language_info": {
   "codemirror_mode": {
    "name": "ipython",
    "version": 3
   },
   "file_extension": ".py",
   "mimetype": "text/x-python",
   "name": "python",
   "nbconvert_exporter": "python",
   "pygments_lexer": "ipython3",
   "version": "3.7.1-candidate"
  }
 },
 "nbformat": 4,
 "nbformat_minor": 4
}