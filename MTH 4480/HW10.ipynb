{
 "cells": [
  {
   "cell_type": "code",
   "execution_count": 122,
   "metadata": {},
   "outputs": [],
   "source": [
    "using LinearAlgebra\n",
    "using Plots\n",
    "gr()\n",
    "\n",
    "\n",
    "function power_method(A, x, tol=1.0e-8)    \n",
    "    n = 0\n",
    "    mu = undef\n",
    "    err_plot = []\n",
    "    err_n = []\n",
    "    errs = [1.0, 1.0e-1, 1.0e-2, 1.0e-3, 1.0e-4, 1.0e-5, 1.0e-6, 1.0e-7, 1.0e-8]\n",
    "\n",
    "    while true\n",
    "        x0 = x\n",
    "        xn = A*normalize(x)\n",
    "        x = normalize(xn)\n",
    "        mu = x'*xn\n",
    "\n",
    "        n += 1\n",
    "        err = norm(x0-x, Inf)\n",
    "        push!(err_plot, err)\n",
    "\n",
    "        if err < errs[1]\n",
    "            push!(err_n, n)\n",
    "            popfirst!(errs)\n",
    "        end\n",
    "\n",
    "        if err < tol\n",
    "            break\n",
    "        end\n",
    "    end\n",
    "\n",
    "    println(\"eigenvector: $(x)\\neigenvalue: $(mu)\\niterations: $(n)\")\n",
    "\n",
    "    err_n_plot = [err_plot[i] for i in err_n]\n",
    "    plot(collect(1:n), err_plot, yaxis=:log, lw=4, lc=:teal, label=\"\",\n",
    "        yticks=[1.0, 1.0e-1, 1.0e-2, 1.0e-3, 1.0e-4, 1.0e-5, 1.0e-6, 1.0e-7, 1.0e-8],\n",
    "        xticks=[i for i in 0:5:n],\n",
    "        ylabel=\"absolute error\", xlabel=\"iterations\", size=(900,900),\n",
    "        title=\"Maximum eigenvalue error vs number of iterations\")\n",
    "    scatter!(err_n, err_n_plot, mc=:gold, ms=6, label=\"\")\n",
    "    png(\"power method $(n) iterations\")\n",
    "end\n",
    "\n",
    "\n",
    "function qr_decomp(A, tol=1.0e-8)\n",
    "    n = 0\n",
    "    err_plot = []\n",
    "    err_n = []\n",
    "    errs = [1.0, 1.0e-1, 1.0e-2, 1.0e-3, 1.0e-4, 1.0e-5, 1.0e-6, 1.0e-7, 1.0e-8]\n",
    "\n",
    "    while true\n",
    "        A = qr(A)\n",
    "        A = A.R*A.Q\n",
    "        \n",
    "        n += 1\n",
    "        err = norm(diag(A, -1), 1)\n",
    "        push!(err_plot, err)\n",
    "\n",
    "        if err < errs[1]\n",
    "            push!(err_n, n)\n",
    "            popfirst!(errs)\n",
    "        end\n",
    "\n",
    "        if err < tol\n",
    "            break\n",
    "        end\n",
    "    end\n",
    "\n",
    "    println(\"iterations: $(n)\\neigenvalues:\")\n",
    "    for e in sort(diag(A))\n",
    "        println(\"    $(e)\")\n",
    "    end\n",
    "\n",
    "    err_n_plot = [err_plot[i] for i in err_n]\n",
    "    plot(collect(1:n), err_plot, yaxis=:log, lw=4, lc=:teal, label=\"\",\n",
    "        yticks=[1.0, 1.0e-1, 1.0e-2, 1.0e-3, 1.0e-4, 1.0e-5, 1.0e-6, 1.0e-7, 1.0e-8],\n",
    "        xticks=[i for i in 0:5:n],\n",
    "        ylabel=\"absolute error\", xlabel=\"iterations\", size=(900,900),\n",
    "        title=\"Off-diagonal error vs number of iterations\")\n",
    "    scatter!(err_n, err_n_plot, mc=:gold, ms=6, label=\"\")\n",
    "    png(\"qr $(n) iterations\")\n",
    "end\n",
    "\n",
    "\n",
    "function shift_qr(A, tol=1.0e-8)\n",
    "    n = 0\n",
    "    eigs = []\n",
    "    err_plot = []\n",
    "\n",
    "    while true\n",
    "        K = A[end,end]*I(size(A,1))\n",
    "        A = qr(A - K)\n",
    "        A = A.R*A.Q + K\n",
    "        n += 1\n",
    "        \n",
    "        if size(A, 1) == 1\n",
    "            push!(eigs, A[end,end])\n",
    "            push!(err_plot, 1.0e-8)\n",
    "            break\n",
    "        end\n",
    "\n",
    "        err = abs(A[end-1,end])\n",
    "        push!(err_plot, err)\n",
    "\n",
    "        if (abs(A[end-1,end]) < tol) & (abs(A[end,end-1]) < tol)\n",
    "            push!(eigs, A[end,end])\n",
    "            A = A[1:end-1, 1:end-1]\n",
    "        end\n",
    "    end\n",
    "\n",
    "    println(\"iterations: $(n)\\neigenvalues:\")\n",
    "    for e in sort(eigs)\n",
    "        println(\"    $(e)\")\n",
    "    end\n",
    "\n",
    "    plot(collect(1:n), err_plot, yaxis=:log, lw=4, lc=:teal, label=\"\",\n",
    "        ylabel=\"absolute error\", xlabel=\"iterations\", size=(900,900),\n",
    "        title=\"QR+shift off-diagonal error vs number of iterations\")\n",
    "    scatter!(collect(1:n), err_plot, mc=:gold, ms=6, label=\"\")\n",
    "    \n",
    "    png(\"shift qr $(n) iterations\")\n",
    "end;"
   ]
  },
  {
   "cell_type": "code",
   "execution_count": 123,
   "metadata": {},
   "outputs": [
    {
     "name": "stdout",
     "output_type": "stream",
     "text": [
      "eigenvector: [0.7135786481604682, 0.3959205712924121, 0.5779726759259203]\n",
      "eigenvalue: 5.919639578909249\n",
      "iterations: 23\n"
     ]
    }
   ],
   "source": [
    "A = [4. 2. 1.; 0. 3. 2.; 1. 1. 4.]\n",
    "x = [1., 2., 1.]\n",
    "\n",
    "power_method(A, x)"
   ]
  },
  {
   "cell_type": "code",
   "execution_count": 124,
   "metadata": {
    "scrolled": false
   },
   "outputs": [
    {
     "name": "stdout",
     "output_type": "stream",
     "text": [
      "eigenvector: [0.7794684516923143, 0.48173797465578533, 0.09200378498008333, 0.38973421730747093]\n",
      "eigenvalue: 5.236067977499789\n",
      "iterations: 48\n"
     ]
    }
   ],
   "source": [
    "A = [4. 1. 1. 1.; 1. 3. -1. 1.; 1. -1. 2. 0.; 1. 1. 0. 2.]\n",
    "x = [1., -2., 0., 3.]\n",
    "\n",
    "power_method(A, x)"
   ]
  },
  {
   "cell_type": "code",
   "execution_count": 125,
   "metadata": {},
   "outputs": [
    {
     "name": "stdout",
     "output_type": "stream",
     "text": [
      "iterations: 41\n",
      "eigenvalues:\n",
      "    1.267949192431124\n",
      "    2.9999999999999956\n",
      "    4.732050807568875\n"
     ]
    }
   ],
   "source": [
    "A = [4. -1. 0.; -1. 3. -1.; 0. -1. 2.]\n",
    "qr_decomp(A)"
   ]
  },
  {
   "cell_type": "code",
   "execution_count": 126,
   "metadata": {},
   "outputs": [
    {
     "name": "stdout",
     "output_type": "stream",
     "text": [
      "iterations: 178\n",
      "eigenvalues:\n",
      "    -3.7782865121039415\n",
      "    -1.4880677957482995\n",
      "    0.8275516854923803\n",
      "    3.4388026223598525\n"
     ]
    }
   ],
   "source": [
    "A = [-2. 1. 0. 0.; 1. -3. -1. 0.; 0. -1. 1. 1.; 0. 0. 1. 3.]\n",
    "\n",
    "qr_decomp(A)"
   ]
  },
  {
   "cell_type": "code",
   "execution_count": 127,
   "metadata": {},
   "outputs": [
    {
     "name": "stdout",
     "output_type": "stream",
     "text": [
      "iterations: 8\n",
      "eigenvalues:\n",
      "    1.2679491924311226\n",
      "    3.0000000000000004\n",
      "    4.732050807568877\n"
     ]
    }
   ],
   "source": [
    "A = [4. -1. 0.; -1. 3. -1.; 0. -1. 2.]\n",
    "\n",
    "shift_qr(A)"
   ]
  },
  {
   "cell_type": "code",
   "execution_count": 121,
   "metadata": {},
   "outputs": [
    {
     "name": "stdout",
     "output_type": "stream",
     "text": [
      "iterations: 9\n",
      "eigenvalues:\n",
      "    -3.778286512103936\n",
      "    -1.4880677957483008\n",
      "    0.827551685492379\n",
      "    3.438802622359853\n"
     ]
    }
   ],
   "source": [
    "A = [-2. 1. 0. 0.; 1. -3. -1. 0.; 0. -1. 1. 1.; 0. 0. 1. 3.]\n",
    "\n",
    "shift_qr(A)"
   ]
  },
  {
   "cell_type": "code",
   "execution_count": null,
   "metadata": {},
   "outputs": [],
   "source": []
  }
 ],
 "metadata": {
  "@webio": {
   "lastCommId": null,
   "lastKernelId": null
  },
  "kernelspec": {
   "display_name": "Julia 1.2.0",
   "language": "julia",
   "name": "julia-1.2"
  },
  "language_info": {
   "file_extension": ".jl",
   "mimetype": "application/julia",
   "name": "julia",
   "version": "1.2.0"
  }
 },
 "nbformat": 4,
 "nbformat_minor": 2
}
