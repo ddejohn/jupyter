{
 "cells": [
  {
   "cell_type": "markdown",
   "metadata": {},
   "source": [
    "# MTH 4480 HW1\n",
    "\n",
    "Devon DeJohn, Fall 2019"
   ]
  },
  {
   "cell_type": "code",
   "execution_count": 6,
   "metadata": {},
   "outputs": [],
   "source": [
    "function bisection(; f, intvl, tol=1e-2)\n",
    "    a, b = intvl\n",
    "\n",
    "    if sign(f(a)) == sign(f(b))\n",
    "        return \"initial inputs are not opposite sign\"\n",
    "    end\n",
    "\n",
    "    x = (a+b)*0.5\n",
    "    fx = f(x)\n",
    "    n = 1\n",
    "\n",
    "    while abs(fx) > tol\n",
    "        sign(f(a)) == sign(fx) ? a = x : b = x\n",
    "\n",
    "        x = (a+b)*0.5\n",
    "        fx = f(x)\n",
    "        n += 1\n",
    "    end\n",
    "    \n",
    "    println(\n",
    "        \"x: $(x)\\nf(x) = $(f(x))\\nnumber of iterations: $(n)\\n\",\n",
    "    )\n",
    "end;"
   ]
  },
  {
   "cell_type": "code",
   "execution_count": 7,
   "metadata": {},
   "outputs": [
    {
     "name": "stdout",
     "output_type": "stream",
     "text": [
      "Bisection:\n",
      "\n",
      "x: -1.4140625\n",
      "f(x) = -0.0012081228196620941\n",
      "number of iterations: 7\n",
      "\n",
      "x: -0.73046875\n",
      "f(x) = 0.008032884681597352\n",
      "number of iterations: 8\n",
      "\n",
      "x: 1.4140625\n",
      "f(x) = 0.0012084878981113434\n",
      "number of iterations: 8\n",
      "\n",
      "x: 2.732421875\n",
      "f(x) = 0.007026998806395568\n",
      "number of iterations: 9\n",
      "\n"
     ]
    }
   ],
   "source": [
    "println(\"Bisection:\\n\")\n",
    "bisection(f=x-> x^4 - 2x^3 - 4x^2 + 4x + 4, intvl=(-2, -1))\n",
    "bisection(f=x-> x^4 - 2x^3 - 4x^2 + 4x + 4, intvl=(-1, 0))\n",
    "bisection(f=x-> x^4 - 2x^3 - 4x^2 + 4x + 4, intvl=(0, 2))\n",
    "bisection(f=x-> x^4 - 2x^3 - 4x^2 + 4x + 4, intvl=(2, 3))"
   ]
  },
  {
   "cell_type": "code",
   "execution_count": 8,
   "metadata": {},
   "outputs": [],
   "source": [
    "function fixed_point(; f, g, p0, max_iter=100, tol=1e-2)\n",
    "    p = g(p0)\n",
    "    n = 1\n",
    "\n",
    "    while n < max_iter\n",
    "        p = g(p0)\n",
    "        if abs(p - p0) < tol\n",
    "            break\n",
    "        end\n",
    "        p0 = p\n",
    "        n += 1\n",
    "    end\n",
    "\n",
    "    if n == max_iter\n",
    "        println(\"failed after $(n) iterations\\n\")\n",
    "    else\n",
    "        println(\n",
    "            \"p: $(p)\\nf(p) = $(f(p))\\nnumber of iterations: $(n)\\n\",\n",
    "        )\n",
    "    end\n",
    "end;"
   ]
  },
  {
   "cell_type": "code",
   "execution_count": 9,
   "metadata": {},
   "outputs": [
    {
     "name": "stdout",
     "output_type": "stream",
     "text": [
      "Fixed point:\n",
      "\n",
      "p: 2.621301680198849\n",
      "f(p) = 18.0115470806352\n",
      "number of iterations: 15\n",
      "\n",
      "p: 2.6684016492838563\n",
      "f(p) = 19.000000012003046\n",
      "number of iterations: 7\n",
      "\n",
      "failed after 100 iterations\n",
      "\n",
      "p: 2.665845274476707\n",
      "f(p) = 18.945445326504018\n",
      "number of iterations: 10\n",
      "\n"
     ]
    }
   ],
   "source": [
    "println(\"Fixed point:\\n\")\n",
    "fixed_point(f=x-> x^3, g=x-> (18x + 19/x^2)/19, p0=1)\n",
    "fixed_point(f=x-> x^3, g=x-> x - (x^3 - 19)/(3x^2), p0=1)\n",
    "fixed_point(f=x-> x^3, g=x-> x - (x^4 - 19x)/(x^2 - 19), p0=3)\n",
    "fixed_point(f=x-> x^3, g=x-> sqrt(19/x), p0=1)"
   ]
  },
  {
   "cell_type": "code",
   "execution_count": null,
   "metadata": {},
   "outputs": [],
   "source": []
  }
 ],
 "metadata": {
  "@webio": {
   "lastCommId": null,
   "lastKernelId": null
  },
  "kernelspec": {
   "display_name": "Julia 1.1.1",
   "language": "julia",
   "name": "julia-1.1"
  },
  "language_info": {
   "file_extension": ".jl",
   "mimetype": "application/julia",
   "name": "julia",
   "version": "1.1.1"
  }
 },
 "nbformat": 4,
 "nbformat_minor": 2
}
