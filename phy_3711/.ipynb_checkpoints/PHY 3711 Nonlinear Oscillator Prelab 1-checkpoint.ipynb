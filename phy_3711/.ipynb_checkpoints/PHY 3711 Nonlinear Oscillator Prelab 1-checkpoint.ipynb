{
 "cells": [
  {
   "cell_type": "markdown",
   "metadata": {},
   "source": [
    "# PHY 3711 Nonlinear Oscillator Prelab 1\n",
    "Devon DeJohn, Spring 2020\n",
    "\n",
    "## Voltage divider\n",
    "> Derive the above formulas using Ohm's Law for the first equation and then using algebra to obtain the other formulas.\n",
    "\n",
    "We first consider the current in the series resistors using Ohm's Law,\n",
    "\n",
    "\\begin{align}\n",
    "V_{source} &= I\\,(R_1 + R_2) \\\\\\\\\n",
    "I &= \\frac{V_{source}}{R_1 + R_2}\n",
    "\\end{align}\n",
    "\n",
    "We then make the assumption that no current flows across $V_{div},$ and calculate the potential across $R_2,$\n",
    "\n",
    "$$\n",
    "V_{div} = I\\,R_2\n",
    "$$\n",
    "\n",
    "We can then substitute $I=\\frac{V_{source}}{R_1 + R_2}$ to arrive at\n",
    "\n",
    "\\begin{align}\n",
    "V_{div} &= (I)R_2 \\\\\\\\\n",
    "&= \\left(\\frac{V_{source}}{R_1 + R_2}\\right)R_2 \\\\\\\\\n",
    "\\end{align}\n",
    "\n",
    "$$\n",
    "\\boxed{V_{div} = \\frac{R_2}{R_1 + R_2}\\,V_{source}}\n",
    "$$\n",
    "\n",
    "Finally, in dividing numerator and denominator by $R_2,$ we can reduce the expression\n",
    "\n",
    "\\begin{align}\n",
    "V_{div} &= \\frac{\\left(\\frac{1}{R_2}\\right)}{\\left(\\frac{1}{R_2}\\right)}\\cdot\\frac{R_2}{R_1 + R_2}\\,V_{source} \\\\\\\\\n",
    "\\end{align}\n",
    "\n",
    "$$\n",
    "\\boxed{V_{div} = \\frac{1}{\\frac{R_1}{R_2} + 1}\\,V_{source}}\n",
    "$$\n",
    "\n",
    "Using this formula, and with a given supply $V_{source}$ and resistor $R_1,$ we can derive the required resistor value $R_2$ for a desired $V_{div},$\n",
    "\n",
    "\\begin{align}\n",
    "V_{div} &= \\frac{1}{\\frac{R_1}{R_2} + 1}\\,V_{source} \\\\\\\\\n",
    "1 + \\frac{R_1}{R_2} &= \\frac{V_{source}}{V_{div}} \\\\\\\\\n",
    "\\frac{R_1}{R_2} &= \\frac{V_{source}}{V_{div}} - 1 \\\\\\\\\n",
    "\\frac{R_2}{R_1} &= \\frac{1}{\\frac{V_{source}}{V_{div}} - 1} \\\\\\\\\n",
    "\\end{align}\n",
    "\n",
    "$$\n",
    "\\boxed{R_2 = \\frac{R_1}{\\frac{V_{source}}{V_{div}} - 1}}\n",
    "$$"
   ]
  },
  {
   "cell_type": "markdown",
   "metadata": {},
   "source": [
    "## The Hard Way\n",
    "\n",
    "The \"difficult\" analysis on the inverting amplifier circuit makes use of the idealizing assumption that no current flows across the 741 op-amp's inputs. We derive the current across $R_{in}$ and $R_{feedback},$ and using our zero-current assumption and Kirchoff's Laws we can then algebraically derive an expression for the output voltage:\n",
    "\n",
    "$$\n",
    "V_{out} = -\\frac{\\frac{R_{feedback}}{R_{in}}\\,V_{in}}{\\left[1 + \\frac{1 + \\frac{R_{feedback}}{R_{in}}}{G}\\right]}\n",
    "$$\n",
    "\n",
    "We can then safely make the assertion that with the op-amp gain $G >> 1$ and the resistor ratio $\\frac{R_{feedback}}{R_{in}} \\leq 1000,$ that the fraction\n",
    "\n",
    "$$\n",
    "\\frac{1 + \\frac{R_{feedback}}{R_{in}}}{G} \\approx 0\n",
    "$$\n",
    "\n",
    "Which allows us to reduce the output voltage expression to a simple equivalence, specifically that it will be proportional to the negative ratio of the feedback resistor to the input resistor,\n",
    "\n",
    "$$\n",
    "\\boxed{V_{out} \\approx -\\frac{R_{feedback}}{R_{in}}\\,V_{in}}\n",
    "$$"
   ]
  },
  {
   "cell_type": "markdown",
   "metadata": {},
   "source": [
    "## Example circuit evaluation"
   ]
  },
  {
   "cell_type": "code",
   "execution_count": 1,
   "metadata": {},
   "outputs": [
    {
     "name": "stdout",
     "output_type": "stream",
     "text": [
      "V_div = -0.539 [V]\n",
      "V_out = 5.39 [V]\n"
     ]
    }
   ],
   "source": [
    "# input voltage\n",
    "V_in = -12\n",
    "\n",
    "# voltage divider resistors\n",
    "R1 = 1000\n",
    "R2 = 47\n",
    "\n",
    "# op-amp input and feedback resistors\n",
    "R_in = 1e4\n",
    "R_fb = 1e5\n",
    "\n",
    "V_div = V_in/(1 + R1/R2)\n",
    "V_out = -(R_fb/R_in)*V_div\n",
    "\n",
    "println(\"V_div = $(round(V_div, digits=3)) [V]\")\n",
    "println(\"V_out = $(round(V_out, digits=2)) [V]\")"
   ]
  },
  {
   "cell_type": "code",
   "execution_count": null,
   "metadata": {},
   "outputs": [],
   "source": []
  }
 ],
 "metadata": {
  "@webio": {
   "lastCommId": null,
   "lastKernelId": null
  },
  "kernelspec": {
   "display_name": "Julia 1.2.0",
   "language": "julia",
   "name": "julia-1.2"
  },
  "language_info": {
   "file_extension": ".jl",
   "mimetype": "application/julia",
   "name": "julia",
   "version": "1.2.0"
  }
 },
 "nbformat": 4,
 "nbformat_minor": 4
}
